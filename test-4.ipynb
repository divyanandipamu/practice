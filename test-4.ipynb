{
 "cells": [
  {
   "cell_type": "code",
   "execution_count": null,
   "id": "cd490433",
   "metadata": {},
   "outputs": [],
   "source": [
    "#1. Write a program to add 7000 after 6000 in the following list.\n",
    "# Sample Input\n",
    " list1 = [10, 20, [300, 400, [5000, 6000], 500], 30, 40]\n",
    "# Expected Output\n",
    " list1 = [10, 20, [300, 400, [5000, 6000, 7000], 500], 30, 40]\n"
   ]
  },
  {
   "cell_type": "code",
   "execution_count": 4,
   "id": "6cd92441",
   "metadata": {},
   "outputs": [
    {
     "name": "stdout",
     "output_type": "stream",
     "text": [
      "[10, 20, [300, 400, [5000, 6000, 7000], 500], 30, 40]\n"
     ]
    }
   ],
   "source": [
    "list1 = [10, 20, [300, 400, [5000, 6000], 500], 30, 40]\n",
    "list1[2][2].insert(2,7000)\n",
    "print(list1)"
   ]
  },
  {
   "cell_type": "code",
   "execution_count": null,
   "id": "aa20b935",
   "metadata": {},
   "outputs": [],
   "source": [
    "# 2.Write a program to count the number of students has computers a one subject from the data given below.\n",
    "students = [\n",
    " (\"John\", [\"Computers\", \"Physics\", “Maths”]), \n",
    "(\"Wasim\", [\"Maths\", \"Computers\", \"Statistics\"]), \n",
    "(\"Naresh\", [\"Computers\", \"Accounting\", \"Economics\"]), \n",
    "(\"SaiTeja\", [\"English\", \"Accounting\", \"Economics\", \"Law\"]), \n",
    "(\"Sravani\", [\"Sociology\", \"Economics\", \"Law\", \"Stats\", \"Music\"])\n",
    "]\n",
    "\n"
   ]
  },
  {
   "cell_type": "code",
   "execution_count": 10,
   "id": "a5d43e0a",
   "metadata": {},
   "outputs": [
    {
     "name": "stdout",
     "output_type": "stream",
     "text": [
      "3\n"
     ]
    }
   ],
   "source": [
    "students = [\n",
    "    (\"John\", [\"Computers\", \"Physics\", \"Maths\"]), \n",
    "    (\"Wasim\", [\"Maths\", \"Computers\", \"Statistics\"]), \n",
    "    (\"Naresh\", [\"Computers\", \"Accounting\", \"Economics\"]), \n",
    "    (\"SaiTeja\", [\"English\", \"Accounting\", \"Economics\", \"Law\"]), \n",
    "    (\"Sravani\", [\"Sociology\", \"Economics\", \"Law\", \"Stats\", \"Music\"])\n",
    "]\n",
    "\n",
    "computer_student=sum(1 for _, subjects in students if \"Computers\" in subjects)\n",
    "print(computer_student)"
   ]
  },
  {
   "cell_type": "code",
   "execution_count": null,
   "id": "8dbc7b14",
   "metadata": {},
   "outputs": [],
   "source": [
    "#3.Write a program to find maximum and the minimum value in a set.\n",
    "# Input\n",
    "set1 = {5, 10, 3, 15, 2, 20}\n",
    "# Expected Output\n",
    "max = 20\n",
    "min = 2"
   ]
  },
  {
   "cell_type": "code",
   "execution_count": 11,
   "id": "b3628fa3",
   "metadata": {},
   "outputs": [
    {
     "name": "stdout",
     "output_type": "stream",
     "text": [
      "20\n",
      "2\n"
     ]
    }
   ],
   "source": [
    "set1 = {5, 10, 3, 15, 2, 20}\n",
    "\n",
    "max_value=max(set1)\n",
    "min_value=min(set1)\n",
    "print(max_value)\n",
    "print(min_value)"
   ]
  }
 ],
 "metadata": {
  "kernelspec": {
   "display_name": "Python 3 (ipykernel)",
   "language": "python",
   "name": "python3"
  },
  "language_info": {
   "codemirror_mode": {
    "name": "ipython",
    "version": 3
   },
   "file_extension": ".py",
   "mimetype": "text/x-python",
   "name": "python",
   "nbconvert_exporter": "python",
   "pygments_lexer": "ipython3",
   "version": "3.10.9"
  }
 },
 "nbformat": 4,
 "nbformat_minor": 5
}
