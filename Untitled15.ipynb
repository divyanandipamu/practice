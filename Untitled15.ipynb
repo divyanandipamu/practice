{
 "cells": [
  {
   "cell_type": "code",
   "execution_count": 4,
   "id": "56b035d5",
   "metadata": {},
   "outputs": [
    {
     "name": "stdout",
     "output_type": "stream",
     "text": [
      "[(2, 5), (2, 5)]\n"
     ]
    }
   ],
   "source": [
    "# Write a program to remove all the tuples from a given list of tuples where the second element of the tuple is even number\n",
    "def remove_even_second_element(tuples_list):\n",
    "    return [tup for tup in tuples_list if tup[1] % 2 != 0]\n",
    "tuples_list=[(1,4),(2,5),(3,6),(4,8),(2,5)]\n",
    "result=remove_even_second_element(tuples_list)\n",
    "print(result)\n"
   ]
  },
  {
   "cell_type": "code",
   "execution_count": null,
   "id": "1f11a3a5",
   "metadata": {},
   "outputs": [],
   "source": [
    "# Write a program to return a list of sorted values based on the keys in the dictionary. For example, if {'x': 1, 'y': 2, 'a': 3} is the dictionary then it should return [3, 1, 2].\n"
   ]
  },
  {
   "cell_type": "code",
   "execution_count": 8,
   "id": "21c59a34",
   "metadata": {},
   "outputs": [
    {
     "name": "stdout",
     "output_type": "stream",
     "text": [
      "x:1 y:2 a:3\n",
      "[1, 2, 3]\n"
     ]
    }
   ],
   "source": [
    "l=[1,2,3]\n",
    "x,y,a=l\n",
    "print(\"x:{} y:{} a:{}\".format(x,y,a))\n",
    "print(sorted(l))"
   ]
  },
  {
   "cell_type": "code",
   "execution_count": null,
   "id": "e8a0b23b",
   "metadata": {},
   "outputs": [],
   "source": [
    "Write a program that takes a list and splits into smaller lists of given size. For example, if lst = [1, 2, 3, 4, 5, 6], size = 2, it should return [[1, 2], [3,4], [5,6]] and if lst = [1,2,3,4,5,6,7,8,9], size = 4 then it should return [[1,2,3,4],[5,6,7,8],[9]]. "
   ]
  },
  {
   "cell_type": "code",
   "execution_count": 22,
   "id": "302b7038",
   "metadata": {},
   "outputs": [
    {
     "name": "stdout",
     "output_type": "stream",
     "text": [
      "[[], [], []]\n",
      "[[], [], []]\n"
     ]
    }
   ],
   "source": [
    "def split_list(list1,size):\n",
    "    return [list1[i:i:size] for i in range(0,len(list1),size)]\n",
    "list1=[1,2,3,4,5,6]\n",
    "size1=2\n",
    "result1=split_list(list1,size1)\n",
    "print(result1)\n",
    "list2=[1,2,3,4,5,6,7,8,9]\n",
    "size2=4\n",
    "result2=split_list(list2,size2)\n",
    "print(result2)"
   ]
  },
  {
   "cell_type": "code",
   "execution_count": null,
   "id": "35053301",
   "metadata": {},
   "outputs": [],
   "source": [
    " Write a program to print a list with all duplicates in the given list. For example, if lst=[1, 3, 2, 1, 2, 5, 6] it should return [1, 2].\n"
   ]
  },
  {
   "cell_type": "code",
   "execution_count": 1,
   "id": "e91890f6",
   "metadata": {},
   "outputs": [
    {
     "name": "stdout",
     "output_type": "stream",
     "text": [
      "[1, 2, 3, 5, 6]\n"
     ]
    }
   ],
   "source": [
    "def find_common_items(list1):\n",
    "    return list(set(list1))\n",
    "list1=[1,3,2,1,5,6]\n",
    "result=find_common_items(list1)\n",
    "print(result)"
   ]
  },
  {
   "cell_type": "code",
   "execution_count": null,
   "id": "d4454970",
   "metadata": {},
   "outputs": [],
   "source": [
    " Write a program to display the elements of list thrice if it is a number and display the element terminated with ‘#’ if it is not a number. For example, if the content of list is [‘41’, ‘DHRUVA’, ‘GURU’, ‘13’, ‘ZARA’]\n",
    "The output should be\n",
    "414141\n",
    "DHRUVA#\n",
    "GURU#\n",
    "131313\n",
    "ZARA#"
   ]
  },
  {
   "cell_type": "code",
   "execution_count": 7,
   "id": "91088a8c",
   "metadata": {},
   "outputs": [
    {
     "name": "stdout",
     "output_type": "stream",
     "text": [
      "41\n",
      "DHRUVA\n",
      "GURU\n",
      "13\n",
      "ZARA\n"
     ]
    }
   ],
   "source": [
    "list=[\"41\",\"DHRUVA\",\"GURU\",\"13\",\"ZARA\"]\n",
    "eid,name,subject,id,cor=list\n",
    "print(eid)\n",
    "print(name )\n",
    "print(subject)\n",
    "print(id)\n",
    "print(cores)"
   ]
  },
  {
   "cell_type": "code",
   "execution_count": null,
   "id": "4e5cbca7",
   "metadata": {},
   "outputs": [],
   "source": [
    "Write a program to print a string formed with the first 2 and the last 2 characters of the given string. Assume the size of given string is always greater than or equal to 4."
   ]
  },
  {
   "cell_type": "code",
   "execution_count": 7,
   "id": "f954c121",
   "metadata": {},
   "outputs": [
    {
     "name": "stdout",
     "output_type": "stream",
     "text": [
      "abgh\n"
     ]
    }
   ],
   "source": [
    "def get_first_and_last_two_chars(input_str):\n",
    "    first_two_chars = input_str[:2]\n",
    "    last_two_chars = input_str[-2:]\n",
    "    new_string = first_two_chars + last_two_chars\n",
    "\n",
    "    return new_string\n",
    "\n",
    "given_string = \"abcdefgh\"\n",
    "result = get_first_and_last_two_chars(given_string)\n",
    "print(result)"
   ]
  },
  {
   "cell_type": "code",
   "execution_count": null,
   "id": "23ce504f",
   "metadata": {},
   "outputs": [],
   "source": [
    "Write a program that will print whether the number is a single digit number or double digit number or big number. If given number is one digit number, print \"Single digit number\".\n",
    "If given number is two digit number, print \"Double digit number\". If number is three digit number or bigger, print \"Big number\""
   ]
  },
  {
   "cell_type": "code",
   "execution_count": 43,
   "id": "cc9dc2ab",
   "metadata": {},
   "outputs": [
    {
     "name": "stdout",
     "output_type": "stream",
     "text": [
      "single digit number\n",
      "double  digit number\n",
      "Big number\n"
     ]
    }
   ],
   "source": [
    "def number_classification(number):\n",
    "    if number < 10:\n",
    "        print(\"single digit number\")\n",
    "    elif number < 100:\n",
    "        print(\"double  digit number\")\n",
    "    else:\n",
    "        print(\"Big number\")\n",
    "number1=5\n",
    "number2=25\n",
    "number3=325\n",
    "number_classification(number1)\n",
    "number_classification(number2)\n",
    "number_classification(number3)"
   ]
  },
  {
   "cell_type": "code",
   "execution_count": null,
   "id": "1982d59b",
   "metadata": {},
   "outputs": [],
   "source": [
    "Write a program to find and group anagrams in a given list of words. Two words are called anagrams if one word can be formed by rearranging letters of another. For example 'eat', 'ate' and 'tea' are anagrams. \n",
    "Assume the list given is ['eat', 'ate', 'done', 'tea', 'soup', 'node'] then it should return [['eat', 'ate', 'tea], ['done', 'node'], ['soup']]"
   ]
  },
  {
   "cell_type": "code",
   "execution_count": 6,
   "id": "d4d32f9e",
   "metadata": {},
   "outputs": [
    {
     "name": "stdout",
     "output_type": "stream",
     "text": [
      "[[], [], []]\n"
     ]
    }
   ],
   "source": [
    "def split_list(list1,size):\n",
    "    return [list1[i:i:size] for i in range(0,len(list),size)]\n",
    "list=['eat''ate','done','tea','soup','node']\n",
    "size=2\n",
    "result=split_list(list,size)\n",
    "print(result)"
   ]
  },
  {
   "cell_type": "code",
   "execution_count": null,
   "id": "9a3bc762",
   "metadata": {},
   "outputs": [],
   "source": [
    " Write a program to check if a word is present in the given string. For example, if the word 'orange' is present in the \"This is orange juice\".\n"
   ]
  },
  {
   "cell_type": "code",
   "execution_count": 8,
   "id": "fa986b7b",
   "metadata": {},
   "outputs": [
    {
     "name": "stdout",
     "output_type": "stream",
     "text": [
      "True\n"
     ]
    }
   ],
   "source": [
    "def is_word_present(word, text):\n",
    "    words_list = text.split()\n",
    "\n",
    "    if word in words_list:\n",
    "        return True\n",
    "    else:\n",
    "        return False\n",
    "given_string = \"This is orange juice\"\n",
    "word_to_find = \"orange\"\n",
    "result = is_word_present(word_to_find, given_string)\n",
    "print(result)"
   ]
  }
 ],
 "metadata": {
  "kernelspec": {
   "display_name": "Python 3 (ipykernel)",
   "language": "python",
   "name": "python3"
  },
  "language_info": {
   "codemirror_mode": {
    "name": "ipython",
    "version": 3
   },
   "file_extension": ".py",
   "mimetype": "text/x-python",
   "name": "python",
   "nbconvert_exporter": "python",
   "pygments_lexer": "ipython3",
   "version": "3.10.9"
  }
 },
 "nbformat": 4,
 "nbformat_minor": 5
}
