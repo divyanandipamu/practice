{
 "cells": [
  {
   "cell_type": "code",
   "execution_count": null,
   "id": "cf0e0c7e",
   "metadata": {},
   "outputs": [],
   "source": [
    "10\n",
    "10 9\n",
    "10 9 8\n",
    "10 9 8 7\n",
    "10 9 8 7 6"
   ]
  },
  {
   "cell_type": "code",
   "execution_count": 10,
   "id": "d19f4904",
   "metadata": {},
   "outputs": [
    {
     "name": "stdout",
     "output_type": "stream",
     "text": [
      "10 \n",
      "10 9 \n",
      "10 9 8 \n",
      "10 9 8 7 \n",
      "10 9 8 7 6 \n"
     ]
    }
   ],
   "source": [
    "for i in range(10,5,-1):\n",
    "    for j in range(10,i-1,-1):\n",
    "        print(j,end=' ')\n",
    "    print() "
   ]
  },
  {
   "cell_type": "code",
   "execution_count": null,
   "id": "9c47087b",
   "metadata": {},
   "outputs": [],
   "source": [
    " sort the following list without using sort() function\n",
    "[1, 1, 0, 1, 0, 0, 0, 1, 1, 0, 1, 0]"
   ]
  },
  {
   "cell_type": "code",
   "execution_count": 12,
   "id": "47af86d0",
   "metadata": {},
   "outputs": [
    {
     "name": "stdout",
     "output_type": "stream",
     "text": [
      "[0, 0, 0, 0, 0, 1, 1, 1, 1, 1, 1]\n"
     ]
    }
   ],
   "source": [
    "l=[1,1,0,1,0,0,1,1,0,1,0]\n",
    "l.sort()\n",
    "print(l)"
   ]
  },
  {
   "cell_type": "code",
   "execution_count": null,
   "id": "5df5106e",
   "metadata": {},
   "outputs": [],
   "source": [
    "Merge the following lists\n",
    "given \n",
    "l1 = [1, 4, 7, 9]\n",
    "l2 = [3, 8, 10]\n",
    "output = [1, 3, 4, 7, 8, 9, 10]"
   ]
  },
  {
   "cell_type": "code",
   "execution_count": 34,
   "id": "09a7a1a4",
   "metadata": {},
   "outputs": [
    {
     "name": "stdout",
     "output_type": "stream",
     "text": [
      "[1, 3, 4, 7, 8, 9, 10]\n"
     ]
    }
   ],
   "source": [
    "l1=[1,4,7,9]\n",
    "l2=[3,8,10]\n",
    "result=sorted(l1+l2)\n",
    "\n",
    "print(result)"
   ]
  },
  {
   "cell_type": "code",
   "execution_count": null,
   "id": "a30ed388",
   "metadata": {},
   "outputs": [],
   "source": [
    "Print all Pairs which make sum N for the given list.\n",
    "e,g: l = [4, 3, 6, 8, 2, 9, 7,  5]\n",
    "N = 10\n",
    "It should print (4, 6), (8, 2), (3, 7)"
   ]
  },
  {
   "cell_type": "code",
   "execution_count": 61,
   "id": "1736b663",
   "metadata": {},
   "outputs": [
    {
     "name": "stdout",
     "output_type": "stream",
     "text": [
      "(4,6)\n",
      "(3,7)\n",
      "(8,2)\n"
     ]
    }
   ],
   "source": [
    "l = [4, 3, 6, 8, 2, 9, 7,  5]\n",
    "N = 10 \n",
    "for i in range(len(l)):\n",
    "    for j in range(i+1,len(l)):\n",
    "        if l[i]+l[j]==N: \n",
    "            print(f\"({l[i]},{l[j]})\")"
   ]
  },
  {
   "cell_type": "code",
   "execution_count": null,
   "id": "1b4a6286",
   "metadata": {},
   "outputs": [],
   "source": []
  }
 ],
 "metadata": {
  "kernelspec": {
   "display_name": "Python 3 (ipykernel)",
   "language": "python",
   "name": "python3"
  },
  "language_info": {
   "codemirror_mode": {
    "name": "ipython",
    "version": 3
   },
   "file_extension": ".py",
   "mimetype": "text/x-python",
   "name": "python",
   "nbconvert_exporter": "python",
   "pygments_lexer": "ipython3",
   "version": "3.10.9"
  }
 },
 "nbformat": 4,
 "nbformat_minor": 5
}
