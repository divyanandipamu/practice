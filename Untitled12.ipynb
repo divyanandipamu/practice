{
 "cells": [
  {
   "cell_type": "code",
   "execution_count": 1,
   "id": "08eb3d6e",
   "metadata": {},
   "outputs": [
    {
     "name": "stdout",
     "output_type": "stream",
     "text": [
      "1#2#3#4&"
     ]
    }
   ],
   "source": [
    "# What is the output of the following python code?\n",
    "#print(1, 2, 3, 4, sep='#', end='&'\n",
    "print(1, 2, 3, 4, sep='#', end='&')\n"
   ]
  },
  {
   "cell_type": "code",
   "execution_count": 2,
   "id": "0c1e203c",
   "metadata": {},
   "outputs": [
    {
     "name": "stdout",
     "output_type": "stream",
     "text": [
      "Enter a number 25\n",
      "Multiple of 5\n"
     ]
    }
   ],
   "source": [
    "# Write a python program to check whether the given integer is a multiple of 5.\n",
    "n=int(input('Enter a number '))\n",
    "\n",
    "if n%5==0:\n",
    "    print('Multiple of 5')\n",
    "else:\n",
    "    print('Not Multiple of 5')"
   ]
  },
  {
   "cell_type": "code",
   "execution_count": 3,
   "id": "6fd42127",
   "metadata": {},
   "outputs": [
    {
     "name": "stdout",
     "output_type": "stream",
     "text": [
      "enter  n:35\n",
      "enter x:5\n",
      "1.0\n"
     ]
    }
   ],
   "source": [
    "# Write a python program to calculate and print out the average of a set of integers.\n",
    "n=int(input(\"enter  n:\"))\n",
    "sum=0#\n",
    "x=int(input(\"enter x:\"))\n",
    "for i in range(n):   \n",
    "    sum=sum+1\n",
    "avg=sum/n\n",
    "print(avg)\n",
    "    \n",
    "     "
   ]
  },
  {
   "cell_type": "code",
   "execution_count": 4,
   "id": "c91298eb",
   "metadata": {},
   "outputs": [
    {
     "name": "stdout",
     "output_type": "stream",
     "text": [
      "Enter your age: 25\n",
      "Admission fee: Rs. 40\n"
     ]
    }
   ],
   "source": [
    "#Consider an amusement park that charges different rates for different age groups:\n",
    "#● Admission for anyone under age 4 is free.\n",
    "#● Admission for anyone between the ages of 4 and 18 is Rs. 25.\n",
    "#● Admission for anyone age 18 or older is Rs. 40.\n",
    "#Write a program to print the admission price messag\n",
    "age = int(input(\"Enter your age: \"))\n",
    "\n",
    "if age < 4:\n",
    "    print(\"Admission is free!\")\n",
    "elif age >= 4 and age <= 18:\n",
    "    print(\"Admission fee: Rs. 25\")\n",
    "else:\n",
    "    print(\"Admission fee: Rs. 40\")\n"
   ]
  },
  {
   "cell_type": "code",
   "execution_count": 5,
   "id": "3b8e6385",
   "metadata": {},
   "outputs": [
    {
     "name": "stdout",
     "output_type": "stream",
     "text": [
      "String1 is not empty and evaluates to True\n"
     ]
    }
   ],
   "source": [
    "# Which is the only string that Python considers as False when converting to boolean?\n",
    "string1 = 'Hello'\n",
    "\n",
    "\n",
    "if string1:\n",
    "    print(\"String1 is not empty and evaluates to True\")\n",
    "else:\n",
    "    print(\"String1 is empty and evaluates to False\")\n",
    "\n"
   ]
  },
  {
   "cell_type": "code",
   "execution_count": 12,
   "id": "36fb580d",
   "metadata": {},
   "outputs": [
    {
     "name": "stdout",
     "output_type": "stream",
     "text": [
      "Enter a string: divya\n",
      "Result: divya\n"
     ]
    }
   ],
   "source": [
    "# Write a program to replace whitespace with hyphen in any given string.\n",
    "def replace_whitespace_with_hyphen(input_string):\n",
    "    return input_string.replace(\" \", \"-\")\n",
    "input_string = input(\"Enter a string: \")\n",
    "result = replace_whitespace_with_hyphen(input_string)\n",
    "print(\"Result:\", result)"
   ]
  },
  {
   "cell_type": "code",
   "execution_count": 7,
   "id": "bc93d275",
   "metadata": {},
   "outputs": [
    {
     "name": "stdout",
     "output_type": "stream",
     "text": [
      "Object `console` not found.\n",
      "Pick a number: 25\n",
      "You could have chosen better\n"
     ]
    }
   ],
   "source": [
    " What would be the output of this code if the user tried to enter 3 in the console?\n",
    "    #choice = int(input('Pick a number: '))\n",
    "# if choice == 3:\n",
    "# print('Good choice')\n",
    "# else:\n",
    "#print('You could have chosen better')\n",
    "#else:\n",
    "# print('No luck this time')\n",
    "choice = int(input('Pick a number: '))\n",
    "if choice == 3:\n",
    "    print('Good choice')\n",
    "else:\n",
    "    print('You could have chosen better')\n"
   ]
  },
  {
   "cell_type": "code",
   "execution_count": null,
   "id": "a11b5794",
   "metadata": {},
   "outputs": [],
   "source": [
    "# Write a python program to calculate and print out the average of a set of integers.\n",
    "n=int(input(\"enter  n:\"))\n",
    "sum=0#\n",
    "x=int(input(\"enter x:\"))\n",
    "for i in range(n):   \n",
    "    sum=sum+1\n",
    "avg=sum/n\n",
    "print(avg)\n",
    "    \n",
    "     "
   ]
  },
  {
   "cell_type": "code",
   "execution_count": null,
   "id": "ab325d36",
   "metadata": {},
   "outputs": [],
   "source": [
    "# Given the following program:\n",
    "answer_a = int(input('Try to guess the first number: '))\n",
    "if answer_a == 8:\n",
    "answer_b = int(input('Correct! Now, guess the second number: '))\n",
    "if answer_b == 5:\n",
    "print('You won!')\n",
    "else:\n",
    "print('You only got one number right. So close!')\n",
    "else:\n",
    "print('Wrong!')\n",
    "What will happen when the user enters 8 and then 3?"
   ]
  },
  {
   "cell_type": "code",
   "execution_count": 9,
   "id": "36fc6bb2",
   "metadata": {},
   "outputs": [
    {
     "name": "stdout",
     "output_type": "stream",
     "text": [
      "Try to guess the first number: 8\n",
      "Correct! Now, guess the second number: 3\n",
      "You only got one number right. So close!\n"
     ]
    }
   ],
   "source": [
    "answer_a = int(input('Try to guess the first number: '))\n",
    "if answer_a == 8:\n",
    "    answer_b = int(input('Correct! Now, guess the second number: '))\n",
    "if answer_b == 5:\n",
    "    print('You won!')\n",
    "else:\n",
    "        print('You only got one number right. So close!')\n",
    "    "
   ]
  }
 ],
 "metadata": {
  "kernelspec": {
   "display_name": "Python 3 (ipykernel)",
   "language": "python",
   "name": "python3"
  },
  "language_info": {
   "codemirror_mode": {
    "name": "ipython",
    "version": 3
   },
   "file_extension": ".py",
   "mimetype": "text/x-python",
   "name": "python",
   "nbconvert_exporter": "python",
   "pygments_lexer": "ipython3",
   "version": "3.10.9"
  }
 },
 "nbformat": 4,
 "nbformat_minor": 5
}
